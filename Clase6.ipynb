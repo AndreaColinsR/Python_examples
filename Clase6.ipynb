{
 "cells": [
  {
   "cell_type": "markdown",
   "id": "3bfe59ca-56ce-4c62-b269-dc1badc90a59",
   "metadata": {},
   "source": [
    "# Variables, matrices, vectores y tipos de datos "
   ]
  },
  {
   "cell_type": "code",
   "execution_count": 33,
   "id": "6f6b2701-9891-408d-967f-99c4a32e86cf",
   "metadata": {},
   "outputs": [
    {
     "name": "stdout",
     "output_type": "stream",
     "text": [
      "[1, 2, 3, 4]\n",
      "['Tengo', 1, 'Perro']\n",
      "3\n",
      "\n",
      "[['texto 1', 'texto 2'], [1, 2, 3, 4, 5], [True]]\n",
      "1\n"
     ]
    }
   ],
   "source": [
    "# Definiendo variables escalares en Python\n",
    "a=0\n",
    "Nombre_paciente='Justina'\n",
    "A='0'\n",
    "\n",
    "\n",
    "# Definiendo variables listas en Python\n",
    "listaNum=[1,2,3,4]\n",
    "print(listaNum)\n",
    "\n",
    "ListaMix=['Tengo', 1, 'Perro']\n",
    "print(ListaMix)\n",
    "print(len(ListaMix))\n",
    "print()\n",
    "\n",
    "ListaDListas=[['texto 1', 'texto 2'],[1,2,3,4,5],[True]]\n",
    "print(ListaDListas)\n",
    "print(len(ListaDListas[2]))"
   ]
  },
  {
   "cell_type": "markdown",
   "id": "bd519c52-9ad3-4ed7-a5a6-b936ffedce6e",
   "metadata": {},
   "source": [
    "## Nombrando variables"
   ]
  },
  {
   "cell_type": "markdown",
   "id": "df54c9be-1490-4d64-84e5-a6852c7f9fe6",
   "metadata": {},
   "source": [
    "### Operando variables en Python"
   ]
  },
  {
   "cell_type": "code",
   "execution_count": 21,
   "id": "b9f9f923-03d5-4870-af47-2212d20ee793",
   "metadata": {},
   "outputs": [
    {
     "name": "stdout",
     "output_type": "stream",
     "text": [
      "4\n",
      "00\n",
      "00000\n"
     ]
    }
   ],
   "source": [
    "# operaciones aritmeticas\n",
    "b=a+4\n",
    "print(b)\n",
    "\n",
    "# operaciones aritmeticas con NaNs e infinitos\n",
    "\n",
    "\n",
    "# operaciones de strings\n",
    "B=A+A\n",
    "print(B)\n",
    "\n",
    "#C=A-A\n",
    "#print(C)\n",
    "\n",
    "D=5*A\n",
    "print(D)"
   ]
  },
  {
   "cell_type": "markdown",
   "id": "d7677220-e101-4c56-80e9-04df74a607e8",
   "metadata": {},
   "source": [
    "### Legibilidad"
   ]
  },
  {
   "cell_type": "code",
   "execution_count": 8,
   "id": "9281d21e-75d9-46ce-af7e-54acc0796015",
   "metadata": {},
   "outputs": [
    {
     "name": "stdout",
     "output_type": "stream",
     "text": [
      "356.0\n"
     ]
    }
   ],
   "source": [
    "# Que hace este codigo?\n",
    "a=180\n",
    "b=a*1.8+32\n",
    "print(b)"
   ]
  },
  {
   "cell_type": "code",
   "execution_count": 11,
   "id": "feb40ba7-7f45-4fd2-8cec-a59c22564fb5",
   "metadata": {},
   "outputs": [
    {
     "name": "stdout",
     "output_type": "stream",
     "text": [
      "La temperatura es 356.0 grados Fahrenheit\n"
     ]
    }
   ],
   "source": [
    "# Y este codigo?\n",
    "TempC=180\n",
    "TempF=TempC*1.8+32\n",
    "print('La temperatura es',TempF,'grados Fahrenheit')"
   ]
  },
  {
   "cell_type": "markdown",
   "id": "82b4c31c-dab8-402a-a62d-df4d095866d5",
   "metadata": {
    "jp-MarkdownHeadingCollapsed": true
   },
   "source": [
    "# Ojo cuando hacen una copia de una de variables en Python"
   ]
  },
  {
   "cell_type": "code",
   "execution_count": 4,
   "id": "f40844dc-a691-4eed-9044-095034f38fbf",
   "metadata": {},
   "outputs": [
    {
     "name": "stdout",
     "output_type": "stream",
     "text": [
      "Var1 =  [1, 2]\n",
      "\n",
      "Mirando los nuevos valores\n",
      "Var_copy =  [3, 2]\n",
      "Var1 =  [3, 2]\n"
     ]
    }
   ],
   "source": [
    "## Ojo con python cuando hacen copias de listas en Python\n",
    "\n",
    "Var1=[1,2]\n",
    "print('Var1 = ',Var1)\n",
    "print()\n",
    "\n",
    "## creando copia de la variable Var1\n",
    "Var_copy=Var1\n",
    "\n",
    "# Modificando las copias\n",
    "Var_copy[0]=3 # Var_copy=[3,2]\n",
    "\n",
    "print('Mirando los nuevos valores')\n",
    "print('Var_copy = ',Var_copy)\n",
    "print('Var1 = ',Var1)\n"
   ]
  },
  {
   "cell_type": "code",
   "execution_count": 5,
   "id": "389a2bba-7e10-4e95-9a82-7d4461bbf12b",
   "metadata": {},
   "outputs": [
    {
     "name": "stdout",
     "output_type": "stream",
     "text": [
      "Var1 =  [1, 2]\n",
      "\n",
      "Mirando los nuevos valores\n",
      "Var_copy2 =  [3, 2]\n",
      "Var1 =  [1, 2]\n"
     ]
    }
   ],
   "source": [
    "Var1=[1,2]\n",
    "print('Var1 = ',Var1)\n",
    "print()\n",
    "Var_copy2=Var1.copy()\n",
    "Var_copy2[0]=3\n",
    "\n",
    "print('Mirando los nuevos valores')\n",
    "print('Var_copy2 = ',Var_copy2)\n",
    "print('Var1 = ',Var1)"
   ]
  },
  {
   "cell_type": "code",
   "execution_count": null,
   "id": "f223385b-d23e-47f2-bbf6-d599681907fa",
   "metadata": {},
   "outputs": [],
   "source": []
  }
 ],
 "metadata": {
  "kernelspec": {
   "display_name": "Python 3 (ipykernel)",
   "language": "python",
   "name": "python3"
  },
  "language_info": {
   "codemirror_mode": {
    "name": "ipython",
    "version": 3
   },
   "file_extension": ".py",
   "mimetype": "text/x-python",
   "name": "python",
   "nbconvert_exporter": "python",
   "pygments_lexer": "ipython3",
   "version": "3.11.5"
  }
 },
 "nbformat": 4,
 "nbformat_minor": 5
}
