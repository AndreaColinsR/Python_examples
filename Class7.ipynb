{
 "cells": [
  {
   "cell_type": "code",
   "execution_count": 8,
   "id": "d41670d5-8169-4be8-85e1-ccfc2210e33d",
   "metadata": {},
   "outputs": [
    {
     "name": "stdout",
     "output_type": "stream",
     "text": [
      "[1, 2, 3, 4]\n"
     ]
    }
   ],
   "source": [
    "# Definiendo variables listas en Python\n",
    "listaNum = [1,2,3,4]\n",
    "print(listaNum)"
   ]
  },
  {
   "cell_type": "code",
   "execution_count": 18,
   "id": "f73b19cd-8d0d-481e-9328-28528e6377f7",
   "metadata": {},
   "outputs": [
    {
     "name": "stdout",
     "output_type": "stream",
     "text": [
      "['Tengo', 1, 'Perro']\n"
     ]
    }
   ],
   "source": [
    "ListaMix = ['Tengo', 1, 'Perro']\n",
    "print(ListaMix)"
   ]
  },
  {
   "cell_type": "code",
   "execution_count": 19,
   "id": "f826900f-f1b7-49a0-8438-5d8eef6ed43c",
   "metadata": {},
   "outputs": [
    {
     "name": "stdout",
     "output_type": "stream",
     "text": [
      "Tengo\n"
     ]
    }
   ],
   "source": [
    "print(ListaMix[0])"
   ]
  },
  {
   "cell_type": "code",
   "execution_count": 22,
   "id": "b812c27f-33b9-434f-92bc-b09c00b29369",
   "metadata": {},
   "outputs": [
    {
     "name": "stdout",
     "output_type": "stream",
     "text": [
      "['Tengo', 3, 'Perro']\n"
     ]
    }
   ],
   "source": [
    "ListaMix[1] = 3\n",
    "print(ListaMix)"
   ]
  },
  {
   "cell_type": "code",
   "execution_count": 8,
   "id": "c3c9715e-572a-4eaf-8472-33b9045b49f1",
   "metadata": {},
   "outputs": [
    {
     "name": "stdout",
     "output_type": "stream",
     "text": [
      "[[1, 2, 3], [4, 5, 6], [7, 8, 9]]\n",
      "1\n",
      "[4, 5]\n"
     ]
    }
   ],
   "source": [
    "ListaDListas=[[1,2,3],[4,5,6],[7,8,9]]\n",
    "print(ListaDListas)\n",
    "print(ListaDListas[0][0])\n",
    "print(ListaDListas[1][:2])"
   ]
  },
  {
   "cell_type": "markdown",
   "id": "9a3c1ca0-43ae-455b-8014-925f6971bc24",
   "metadata": {},
   "source": [
    "## Ojo cuando hacen una copia de una de variables en Python"
   ]
  },
  {
   "cell_type": "code",
   "execution_count": 2,
   "id": "10e9d77c-8565-4dc7-b02d-987d0d03ecd2",
   "metadata": {},
   "outputs": [
    {
     "name": "stdout",
     "output_type": "stream",
     "text": [
      "Var1 =  [1, 2]\n",
      "\n",
      "Mirando los nuevos valores\n",
      "Var_copy =  [3, 2]\n",
      "Var1 =  [3, 2]\n"
     ]
    }
   ],
   "source": [
    "\n",
    "Var1=[1,2]\n",
    "print('Var1 = ',Var1)\n",
    "print()\n",
    "\n",
    "## creando copia de la variable Var1\n",
    "Var_copy=Var1\n",
    "\n",
    "# Modificando las copias\n",
    "Var_copy[0]=3 # Var_copy=[3,2]\n",
    "\n",
    "print('Mirando los nuevos valores')\n",
    "print('Var_copy = ',Var_copy)\n",
    "print('Var1 = ',Var1)\n"
   ]
  },
  {
   "cell_type": "code",
   "execution_count": null,
   "id": "6f6ee9e1-a938-41ad-8da0-22545534ba3e",
   "metadata": {},
   "outputs": [],
   "source": [
    "Var1=[1,2]\n",
    "print('Var1 = ',Var1)\n",
    "print()\n",
    "Var_copy2=Var1.copy()\n",
    "Var_copy2[0]=3\n",
    "\n",
    "print('Mirando los nuevos valores')\n",
    "print('Var_copy2 = ',Var_copy2)\n",
    "print('Var1 = ',Var1)"
   ]
  },
  {
   "cell_type": "markdown",
   "id": "ab8a710d-064f-41e4-a67b-83510b9f9fad",
   "metadata": {},
   "source": [
    "## Numpy arrays"
   ]
  },
  {
   "cell_type": "code",
   "execution_count": 9,
   "id": "6e19ae40-8b6e-445e-b075-c1b63f26755b",
   "metadata": {},
   "outputs": [],
   "source": [
    "import numpy as np"
   ]
  },
  {
   "cell_type": "code",
   "execution_count": 10,
   "id": "3d7f4e09-e973-489c-8542-8a376e8133df",
   "metadata": {},
   "outputs": [
    {
     "name": "stdout",
     "output_type": "stream",
     "text": [
      "[[1 2 3]\n",
      " [4 5 6]\n",
      " [7 8 9]]\n"
     ]
    }
   ],
   "source": [
    "Matriz=np.array(ListaDListas)\n",
    "print(Matriz)"
   ]
  },
  {
   "cell_type": "code",
   "execution_count": 16,
   "id": "1fc5fea7-dc40-423a-863e-f194bd8c3229",
   "metadata": {},
   "outputs": [
    {
     "name": "stdout",
     "output_type": "stream",
     "text": [
      "[[1. 1. 1.]\n",
      " [1. 1. 1.]\n",
      " [1. 1. 1.]\n",
      " [1. 1. 1.]]\n"
     ]
    }
   ],
   "source": [
    "Unos=np.ones([4,3])\n",
    "print(Unos)"
   ]
  },
  {
   "cell_type": "code",
   "execution_count": 17,
   "id": "94ca8dab-d45e-4b62-9173-9649cc7357b7",
   "metadata": {},
   "outputs": [
    {
     "name": "stdout",
     "output_type": "stream",
     "text": [
      "[[0. 0. 0.]\n",
      " [0. 0. 0.]\n",
      " [0. 0. 0.]\n",
      " [0. 0. 0.]]\n"
     ]
    }
   ],
   "source": [
    "Ceros=np.zeros([4,3])\n",
    "print(Ceros)"
   ]
  },
  {
   "cell_type": "code",
   "execution_count": 25,
   "id": "c1223d2f-78e5-4e3a-be8f-ea97163ab049",
   "metadata": {},
   "outputs": [
    {
     "name": "stdout",
     "output_type": "stream",
     "text": [
      "[ 0  1  2  3  4  5  6  7  8  9 10 11]\n"
     ]
    }
   ],
   "source": [
    "Rango=np.arange(12)\n",
    "print(Rango)"
   ]
  },
  {
   "cell_type": "code",
   "execution_count": 26,
   "id": "aff49715-e881-4035-8cf5-d981ad80333a",
   "metadata": {},
   "outputs": [
    {
     "name": "stdout",
     "output_type": "stream",
     "text": [
      "[ 5  6  7  8  9 10 11]\n"
     ]
    }
   ],
   "source": [
    "Rango=np.arange(5,12)\n",
    "print(Rango)"
   ]
  },
  {
   "cell_type": "code",
   "execution_count": 29,
   "id": "1c2e2679-da4a-4025-8dba-89c6b0fd52e8",
   "metadata": {},
   "outputs": [
    {
     "name": "stdout",
     "output_type": "stream",
     "text": [
      "9\n"
     ]
    }
   ],
   "source": [
    "print(Matriz[2,1])"
   ]
  },
  {
   "cell_type": "code",
   "execution_count": 35,
   "id": "57665da0-00b1-4504-a6c4-b009243735d1",
   "metadata": {},
   "outputs": [
    {
     "name": "stdout",
     "output_type": "stream",
     "text": [
      "[7 8]\n"
     ]
    }
   ],
   "source": [
    "print(Matriz[2,0:2])"
   ]
  },
  {
   "cell_type": "code",
   "execution_count": 40,
   "id": "9119c956-967b-4ab9-8e0d-61fb4520de77",
   "metadata": {},
   "outputs": [
    {
     "name": "stdout",
     "output_type": "stream",
     "text": [
      "[[2]\n",
      " [5]\n",
      " [8]]\n"
     ]
    }
   ],
   "source": [
    "print(Matriz[:,1:2])"
   ]
  },
  {
   "cell_type": "code",
   "execution_count": 41,
   "id": "c368619c-0fba-4fe9-a3a9-e1118d0eae63",
   "metadata": {},
   "outputs": [
    {
     "name": "stdout",
     "output_type": "stream",
     "text": [
      "[[ 3  4  5]\n",
      " [ 6  7  8]\n",
      " [ 9 10 11]]\n"
     ]
    }
   ],
   "source": [
    "print(Matriz+2)"
   ]
  },
  {
   "cell_type": "code",
   "execution_count": 42,
   "id": "ae69b2bd-4de2-4b14-9750-70401340f5df",
   "metadata": {},
   "outputs": [
    {
     "name": "stdout",
     "output_type": "stream",
     "text": [
      "[[False False False]\n",
      " [False False  True]\n",
      " [ True  True  True]]\n"
     ]
    }
   ],
   "source": [
    "print(Matriz>5)"
   ]
  },
  {
   "cell_type": "code",
   "execution_count": 43,
   "id": "0692252c-add8-49c4-afde-0d78eeb11a15",
   "metadata": {},
   "outputs": [
    {
     "name": "stdout",
     "output_type": "stream",
     "text": [
      "[6 7 8 9]\n"
     ]
    }
   ],
   "source": [
    "print(Matriz[Matriz>5])"
   ]
  },
  {
   "cell_type": "code",
   "execution_count": 58,
   "id": "d68c1650-9c0a-4303-900d-646891187407",
   "metadata": {},
   "outputs": [
    {
     "name": "stdout",
     "output_type": "stream",
     "text": [
      "[False  True  True]\n",
      "[4]\n"
     ]
    }
   ],
   "source": [
    "ind=Matriz[1,:]>=5\n",
    "print(ind)\n",
    "print(Matriz[1,~ind])"
   ]
  },
  {
   "cell_type": "code",
   "execution_count": null,
   "id": "45e21d83-bc6c-4e8e-a9f6-ce3d16e14226",
   "metadata": {},
   "outputs": [],
   "source": []
  }
 ],
 "metadata": {
  "kernelspec": {
   "display_name": "Python 3 (ipykernel)",
   "language": "python",
   "name": "python3"
  },
  "language_info": {
   "codemirror_mode": {
    "name": "ipython",
    "version": 3
   },
   "file_extension": ".py",
   "mimetype": "text/x-python",
   "name": "python",
   "nbconvert_exporter": "python",
   "pygments_lexer": "ipython3",
   "version": "3.11.4"
  }
 },
 "nbformat": 4,
 "nbformat_minor": 5
}
