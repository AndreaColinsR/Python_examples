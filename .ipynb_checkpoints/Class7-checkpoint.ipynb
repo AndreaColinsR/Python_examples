{
 "cells": [
  {
   "cell_type": "code",
   "execution_count": 1,
   "id": "d41670d5-8169-4be8-85e1-ccfc2210e33d",
   "metadata": {},
   "outputs": [
    {
     "name": "stdout",
     "output_type": "stream",
     "text": [
      "[1, 2, 3, 4]\n",
      "['Tengo', 1, 'Perro']\n",
      "3\n",
      "\n",
      "[['texto 1', 'texto 2'], [1, 2, 3, 4, 5], [True]]\n",
      "1\n"
     ]
    }
   ],
   "source": [
    "# Definiendo variables listas en Python\n",
    "listaNum=[1,2,3,4]\n",
    "print(listaNum)\n",
    "\n",
    "ListaMix=['Tengo', 1, 'Perro']\n",
    "print(ListaMix)\n",
    "print(len(ListaMix))\n",
    "print()\n",
    "\n",
    "ListaDListas=[['texto 1', 'texto 2'],[1,2,3,4,5],[True]]\n",
    "print(ListaDListas)\n",
    "print(len(ListaDListas[2]))"
   ]
  },
  {
   "cell_type": "markdown",
   "id": "9a3c1ca0-43ae-455b-8014-925f6971bc24",
   "metadata": {},
   "source": [
    "## Ojo cuando hacen una copia de una de variables en Python"
   ]
  },
  {
   "cell_type": "code",
   "execution_count": 2,
   "id": "10e9d77c-8565-4dc7-b02d-987d0d03ecd2",
   "metadata": {},
   "outputs": [
    {
     "name": "stdout",
     "output_type": "stream",
     "text": [
      "Var1 =  [1, 2]\n",
      "\n",
      "Mirando los nuevos valores\n",
      "Var_copy =  [3, 2]\n",
      "Var1 =  [3, 2]\n"
     ]
    }
   ],
   "source": [
    "\n",
    "Var1=[1,2]\n",
    "print('Var1 = ',Var1)\n",
    "print()\n",
    "\n",
    "## creando copia de la variable Var1\n",
    "Var_copy=Var1\n",
    "\n",
    "# Modificando las copias\n",
    "Var_copy[0]=3 # Var_copy=[3,2]\n",
    "\n",
    "print('Mirando los nuevos valores')\n",
    "print('Var_copy = ',Var_copy)\n",
    "print('Var1 = ',Var1)\n"
   ]
  },
  {
   "cell_type": "code",
   "execution_count": null,
   "id": "6f6ee9e1-a938-41ad-8da0-22545534ba3e",
   "metadata": {},
   "outputs": [],
   "source": [
    "Var1=[1,2]\n",
    "print('Var1 = ',Var1)\n",
    "print()\n",
    "Var_copy2=Var1.copy()\n",
    "Var_copy2[0]=3\n",
    "\n",
    "print('Mirando los nuevos valores')\n",
    "print('Var_copy2 = ',Var_copy2)\n",
    "print('Var1 = ',Var1)"
   ]
  }
 ],
 "metadata": {
  "kernelspec": {
   "display_name": "Python 3 (ipykernel)",
   "language": "python",
   "name": "python3"
  },
  "language_info": {
   "codemirror_mode": {
    "name": "ipython",
    "version": 3
   },
   "file_extension": ".py",
   "mimetype": "text/x-python",
   "name": "python",
   "nbconvert_exporter": "python",
   "pygments_lexer": "ipython3",
   "version": "3.11.4"
  }
 },
 "nbformat": 4,
 "nbformat_minor": 5
}
