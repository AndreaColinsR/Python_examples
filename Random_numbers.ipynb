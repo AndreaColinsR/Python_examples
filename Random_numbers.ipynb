{
 "cells": [
  {
   "cell_type": "markdown",
   "id": "ecb7f2e8-58ca-4e8c-8ba8-0049c470bab5",
   "metadata": {},
   "source": [
    "# Random numbers"
   ]
  },
  {
   "cell_type": "code",
   "execution_count": 1,
   "id": "9db51136-757d-43ed-b2df-6d6dbe02e1fc",
   "metadata": {},
   "outputs": [],
   "source": [
    "# importing random module and numpy\n",
    "import random\n",
    "import numpy as np"
   ]
  },
  {
   "cell_type": "code",
   "execution_count": 27,
   "id": "0e40dffb-a1dc-43ea-8ec4-57ac03795e85",
   "metadata": {},
   "outputs": [
    {
     "name": "stdout",
     "output_type": "stream",
     "text": [
      "0.13436424411240122\n",
      "0.13436424411240122\n"
     ]
    }
   ],
   "source": [
    "# Definir la semilla\n",
    "random.seed(1)\n",
    "\n",
    "# generar numero aleatorio\n",
    "r2 = random.random()\n",
    "print(r2)\n",
    "\n",
    "\n",
    "# De nuevo\n",
    "random.seed(1)\n",
    "# generar numero aleatorio\n",
    "r2 = random.random()\n",
    "print(r2)"
   ]
  },
  {
   "cell_type": "code",
   "execution_count": 30,
   "id": "3281c7d2-1c53-41e7-ba94-bfeeecd3439c",
   "metadata": {},
   "outputs": [
    {
     "name": "stdout",
     "output_type": "stream",
     "text": [
      "0.5118216247002567\n",
      "0.5118216247002567\n"
     ]
    }
   ],
   "source": [
    "# Definir la semilla\n",
    "rgn=np.random.default_rng(seed=1)\n",
    "print(rgn.random())\n",
    "\n",
    "# De nuevo\n",
    "rgn=np.random.default_rng(seed=1)\n",
    "print(rgn.random())"
   ]
  },
  {
   "cell_type": "code",
   "execution_count": 31,
   "id": "d8722436-9afd-4b41-a6cd-7c06d9a08ea1",
   "metadata": {},
   "outputs": [
    {
     "name": "stdout",
     "output_type": "stream",
     "text": [
      "[[0.9504637  0.14415961]\n",
      " [0.94864945 0.31183145]\n",
      " [0.42332645 0.82770259]]\n"
     ]
    }
   ],
   "source": [
    "# imprimir matriz con valores aleatorios entre 0 y 1\n",
    "print(rgn.random([3,2]))"
   ]
  },
  {
   "cell_type": "code",
   "execution_count": 11,
   "id": "1e32b0d0-ae6f-41f8-acbd-45e8d72e7f16",
   "metadata": {},
   "outputs": [
    {
     "name": "stdout",
     "output_type": "stream",
     "text": [
      "[[5 6 1]\n",
      " [1 3 8]]\n"
     ]
    }
   ],
   "source": [
    "r = np.random.randint(10, size=(2, 3))\n",
    "print(r)"
   ]
  },
  {
   "cell_type": "code",
   "execution_count": null,
   "id": "d9683665-9eb5-455f-b649-a2dd269cd52c",
   "metadata": {},
   "outputs": [],
   "source": [
    "choices = np.arange(1,20)\n",
    "print(choices,'\\n')\n",
    "\n",
    "\n",
    "Sin_rep = np.random.choice(choices,10,replace=False)\n",
    "print(Sin_rep,'\\n')\n",
    "\n",
    "Con_rep = np.random.choice(choices,10,replace=True)\n",
    "print(Con_rep,'\\n')"
   ]
  },
  {
   "cell_type": "markdown",
   "id": "14972751-28ec-49a7-8e51-80a424700dbe",
   "metadata": {},
   "source": [
    "# Ejercicios"
   ]
  },
  {
   "cell_type": "code",
   "execution_count": null,
   "id": "8b86a0e4-c7d7-4e1a-bf42-7ef41d133286",
   "metadata": {},
   "outputs": [],
   "source": [
    "# lanzamiento de una moneda\n",
    "moneda=np.random.randint(1,3, size=(10))\n",
    "print(moneda)"
   ]
  },
  {
   "cell_type": "code",
   "execution_count": null,
   "id": "e801a71d-76e6-4e25-8e2b-8f71d1dc5502",
   "metadata": {},
   "outputs": [],
   "source": [
    "# lanzamiento de un dado\n",
    "dado=np.random.randint(1,6, size=(10))\n",
    "print(dado)"
   ]
  },
  {
   "cell_type": "code",
   "execution_count": null,
   "id": "8c4f88dd-56be-4799-8e8e-19e96373f589",
   "metadata": {},
   "outputs": [],
   "source": [
    "# seleccionar alumnos\n",
    "alumnos=np.arange(1,11)\n",
    "selected=np.random.choice(alumnos,3,replace=False)\n",
    "print(selected)"
   ]
  },
  {
   "cell_type": "code",
   "execution_count": 25,
   "id": "f8fa5fba-3f45-40e6-9c64-0eb3cf03fb7c",
   "metadata": {},
   "outputs": [
    {
     "name": "stdout",
     "output_type": "stream",
     "text": [
      "Todos los pacientes = [ 1  2  3  4  5  6  7  8  9 10] \n",
      "\n",
      "Pacientes placebo =  [4 1 7 9 3] \n",
      "\n",
      "Pacientes droga = [ 2  5  6  8 10]\n"
     ]
    }
   ],
   "source": [
    "# Dividir grupo de pacientes entre placebo y droga\n",
    "rgn=np.random.default_rng(seed=1)\n",
    "\n",
    "pacientes=np.arange(1,11)\n",
    "print('Todos los pacientes =',pacientes,'\\n')\n",
    "\n",
    "\n",
    "placebo=rgn.choice(pacientes,5,replace=False)\n",
    "print('Pacientes placebo = ',placebo,'\\n')\n",
    "\n",
    "\n",
    "# crear un vector de booleans del mismo tamaño que pacientes \n",
    "#mask=np.array([True,True,True,True,True,True,True,True,True,True])\n",
    "mask=np.ones(len(pacientes), dtype=bool)\n",
    "\n",
    "# Marcar todos los indices de los pacientes con placebo como false\n",
    "mask[placebo-1]=False\n",
    "\n",
    "# definir el grupo de pacientes que reciben la droga como el grupo inicial menos los del placebo\n",
    "med=pacientes[mask]\n",
    "\n",
    "print('Pacientes droga =', med)"
   ]
  },
  {
   "cell_type": "code",
   "execution_count": null,
   "id": "79f283f6-2a45-40cb-972b-94f2163e7727",
   "metadata": {},
   "outputs": [],
   "source": []
  },
  {
   "cell_type": "code",
   "execution_count": null,
   "id": "ad763706-a68b-4996-a606-28e03447c6fa",
   "metadata": {},
   "outputs": [],
   "source": []
  }
 ],
 "metadata": {
  "kernelspec": {
   "display_name": "Python 3 (ipykernel)",
   "language": "python",
   "name": "python3"
  },
  "language_info": {
   "codemirror_mode": {
    "name": "ipython",
    "version": 3
   },
   "file_extension": ".py",
   "mimetype": "text/x-python",
   "name": "python",
   "nbconvert_exporter": "python",
   "pygments_lexer": "ipython3",
   "version": "3.11.5"
  }
 },
 "nbformat": 4,
 "nbformat_minor": 5
}
