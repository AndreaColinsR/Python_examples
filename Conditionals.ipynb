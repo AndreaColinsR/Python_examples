{
 "cells": [
  {
   "cell_type": "markdown",
   "id": "7f78f49c-25f3-48c1-8a8b-f5809517b5bd",
   "metadata": {},
   "source": [
    "# Conditionals\n",
    "\n",
    "### In this notebook:\n",
    "1. Logical operations\n",
    "2. Conditional statements"
   ]
  },
  {
   "cell_type": "markdown",
   "id": "7cbf2451-e3f1-47e6-b48e-0ffa9e096bc9",
   "metadata": {},
   "source": [
    "## 1. Logical operations\n",
    "\n",
    "Logical operations are statements which can be True (1) or False (0)"
   ]
  },
  {
   "cell_type": "code",
   "execution_count": 1,
   "id": "2bc38959-a8aa-481b-8135-189ad23a1836",
   "metadata": {},
   "outputs": [
    {
     "name": "stdout",
     "output_type": "stream",
     "text": [
      "True\n"
     ]
    }
   ],
   "source": [
    "x=1; # our example variable\n",
    "\n",
    "print(x<=2) #is x less or equal than 2?\n"
   ]
  },
  {
   "cell_type": "code",
   "execution_count": 2,
   "id": "954420c6-4d39-4b1e-8109-2c445c7a8f8f",
   "metadata": {},
   "outputs": [
    {
     "name": "stdout",
     "output_type": "stream",
     "text": [
      "False\n"
     ]
    }
   ],
   "source": [
    "print(x<0) #is x less than 0?"
   ]
  },
  {
   "cell_type": "code",
   "execution_count": 3,
   "id": "b7b3e1d5-c62a-4083-bda6-490ba3c8894d",
   "metadata": {},
   "outputs": [
    {
     "name": "stdout",
     "output_type": "stream",
     "text": [
      "True\n"
     ]
    }
   ],
   "source": [
    "print(x==1) #is x equal to 1?"
   ]
  },
  {
   "cell_type": "markdown",
   "id": "ecf3cdad-601a-49d8-97bc-bc4241484fcc",
   "metadata": {},
   "source": [
    "This also applies to arrays"
   ]
  },
  {
   "cell_type": "code",
   "execution_count": 6,
   "id": "1de555ca-bec7-493d-b887-8e61d4215d7c",
   "metadata": {},
   "outputs": [
    {
     "name": "stdout",
     "output_type": "stream",
     "text": [
      "[1 2 3 4 5 6 7 8]\n",
      "[ True  True  True  True False False False False]\n"
     ]
    }
   ],
   "source": [
    "import numpy as np\n",
    "X=np.array(np.arange(1,9))\n",
    "print(X)\n",
    "print(X<5)"
   ]
  },
  {
   "cell_type": "code",
   "execution_count": 8,
   "id": "e6e84076-3f4d-4e85-a187-2c2af4ad2196",
   "metadata": {},
   "outputs": [
    {
     "name": "stdout",
     "output_type": "stream",
     "text": [
      "[1 2 3 4]\n"
     ]
    }
   ],
   "source": [
    "# How is this useful?\n",
    "# e.g. selecting specific elements of an array\n",
    "idx=X<5\n",
    "print(X[idx])"
   ]
  },
  {
   "cell_type": "markdown",
   "id": "f41d71d2-70e6-494d-a493-17b67837ccfe",
   "metadata": {},
   "source": [
    "## 2. Conditional statements\n",
    "Conditional statements help us to take action when a condition is met"
   ]
  },
  {
   "cell_type": "code",
   "execution_count": 19,
   "id": "3d67c643-56cf-493b-8ffe-e80d933d4ceb",
   "metadata": {},
   "outputs": [
    {
     "name": "stdout",
     "output_type": "stream",
     "text": [
      "Dont bring anything\n"
     ]
    }
   ],
   "source": [
    "## Take action only if the temperature is too low\n",
    "temp_today=35;\n",
    "\n",
    "if temp_today<=10:\n",
    "    print('Bring a coat')\n",
    "else:\n",
    "    print('Dont bring anything')"
   ]
  },
  {
   "cell_type": "code",
   "execution_count": 20,
   "id": "9b56ae1e-1586-48fb-be2f-54cabeeefdcd",
   "metadata": {},
   "outputs": [
    {
     "name": "stdout",
     "output_type": "stream",
     "text": [
      "Bring a hat\n"
     ]
    }
   ],
   "source": [
    "#What if it's too warm?\n",
    "\n",
    "if temp_today<=10:\n",
    "    print('Bring a coat')\n",
    "elif temp_today>30:\n",
    "    print('Bring a hat')\n",
    "else:\n",
    "    print('Dont bring anything')\n"
   ]
  },
  {
   "cell_type": "markdown",
   "id": "0fda470d-487d-487e-b37e-a4b7f16a1f7a",
   "metadata": {},
   "source": [
    "We can combine logical operations to describe specific conditions"
   ]
  },
  {
   "cell_type": "code",
   "execution_count": null,
   "id": "eee6fecb-7330-4778-af75-31b07ac39af6",
   "metadata": {},
   "outputs": [],
   "source": [
    "rain=True\n",
    "snow=True\n",
    "\n",
    "if temp_today<10 and rain\n",
    "    print('Bring a coat and an umbrella')\n",
    "\n",
    "if rain or snow\n",
    "    print('Brin')"
   ]
  }
 ],
 "metadata": {
  "kernelspec": {
   "display_name": "Python 3 (ipykernel)",
   "language": "python",
   "name": "python3"
  },
  "language_info": {
   "codemirror_mode": {
    "name": "ipython",
    "version": 3
   },
   "file_extension": ".py",
   "mimetype": "text/x-python",
   "name": "python",
   "nbconvert_exporter": "python",
   "pygments_lexer": "ipython3",
   "version": "3.11.4"
  }
 },
 "nbformat": 4,
 "nbformat_minor": 5
}
