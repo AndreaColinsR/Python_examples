{
 "cells": [
  {
   "cell_type": "markdown",
   "id": "6381fa0f-b446-4aea-b9b4-1e3b176a75e7",
   "metadata": {},
   "source": [
    "# LOOPS\n",
    "\n",
    "## 1. for (Preferred way to create a loop)"
   ]
  },
  {
   "cell_type": "code",
   "execution_count": 22,
   "id": "f08870ed-f97a-4d67-a9bf-987dcf51613b",
   "metadata": {},
   "outputs": [
    {
     "name": "stdout",
     "output_type": "stream",
     "text": [
      "1\n",
      "2\n",
      "3\n",
      "4\n",
      "5\n",
      "Im outside the loop\n"
     ]
    }
   ],
   "source": [
    "for i in range(1,6):\n",
    "    print(i) #this line NEEDS to be indented \n",
    "    \n",
    "# to end the for loop, indent the next line back to the left\n",
    "print('Im outside the loop')   "
   ]
  },
  {
   "cell_type": "markdown",
   "id": "684de179-900e-4523-a58c-6429eafbca2b",
   "metadata": {},
   "source": [
    "## 2. While"
   ]
  },
  {
   "cell_type": "code",
   "execution_count": 2,
   "id": "0154b1ed-fd57-4b56-8231-16d667a98382",
   "metadata": {},
   "outputs": [
    {
     "name": "stdout",
     "output_type": "stream",
     "text": [
      "1\n",
      "2\n",
      "3\n",
      "4\n",
      "5\n"
     ]
    }
   ],
   "source": [
    "I=1;\n",
    "while I<=5:\n",
    "    print(I)\n",
    "    I=I+1\n",
    "\n"
   ]
  },
  {
   "cell_type": "markdown",
   "id": "66509adc-b05f-4dc9-a5ff-623b56c966bd",
   "metadata": {},
   "source": [
    "# Special Cases\n",
    "\n",
    "# 1. Breaking a loop "
   ]
  },
  {
   "cell_type": "code",
   "execution_count": 8,
   "id": "5867bf57-d444-43b3-b678-56cb6f3c58f7",
   "metadata": {},
   "outputs": [
    {
     "name": "stdout",
     "output_type": "stream",
     "text": [
      "3\n",
      "4\n",
      "5\n",
      "6\n",
      "7\n",
      "i>=8, breaking the loop\n"
     ]
    }
   ],
   "source": [
    "for i in range(3,10):\n",
    "    \n",
    "    if i>=8:\n",
    "        print('i>=8, breaking the loop')\n",
    "        break\n",
    "    print(i)"
   ]
  },
  {
   "cell_type": "markdown",
   "id": "7f121fdf-e4f1-4149-bc85-2ed3f3817c3e",
   "metadata": {},
   "source": [
    "## 2. Skipping an iteration"
   ]
  },
  {
   "cell_type": "code",
   "execution_count": 10,
   "id": "6d4f5e82-d4bf-4c9e-a3cc-6938ebbc5be5",
   "metadata": {},
   "outputs": [
    {
     "name": "stdout",
     "output_type": "stream",
     "text": [
      "3\n",
      "4\n",
      "6\n",
      "7\n",
      "8\n",
      "9\n"
     ]
    }
   ],
   "source": [
    "for i in range(3,10):\n",
    "    if i==5:\n",
    "        continue\n",
    "    \n",
    "    print(i)"
   ]
  },
  {
   "cell_type": "code",
   "execution_count": null,
   "id": "99863e59-a301-40f4-a44a-0911396f0c32",
   "metadata": {},
   "outputs": [],
   "source": []
  }
 ],
 "metadata": {
  "kernelspec": {
   "display_name": "Python 3 (ipykernel)",
   "language": "python",
   "name": "python3"
  },
  "language_info": {
   "codemirror_mode": {
    "name": "ipython",
    "version": 3
   },
   "file_extension": ".py",
   "mimetype": "text/x-python",
   "name": "python",
   "nbconvert_exporter": "python",
   "pygments_lexer": "ipython3",
   "version": "3.11.4"
  }
 },
 "nbformat": 4,
 "nbformat_minor": 5
}
