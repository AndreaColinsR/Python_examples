{
 "cells": [
  {
   "cell_type": "markdown",
   "metadata": {
    "id": "lKnHsCbqz-_3"
   },
   "source": [
    "# Variables and arrays"
   ]
  },
  {
   "cell_type": "markdown",
   "metadata": {
    "id": "E4EWB5nRuXgH"
   },
   "source": [
    "\n",
    "## Scalars"
   ]
  },
  {
   "cell_type": "code",
   "execution_count": 2,
   "metadata": {
    "colab": {
     "base_uri": "https://localhost:8080/"
    },
    "id": "jMZ86KLUuJAR",
    "outputId": "74389700-e377-481e-ecb3-bf85ec3c7628"
   },
   "outputs": [
    {
     "name": "stdout",
     "output_type": "stream",
     "text": [
      "1\n",
      "1\n",
      "1.0\n",
      "2\n"
     ]
    }
   ],
   "source": [
    "import numpy as np\n",
    "\n",
    "## Scalar\n",
    "A=1;\n",
    "print(A)\n",
    "\n",
    "# unit8(1)\n",
    "B=np.uint8(1)\n",
    "print(B)\n",
    "\n",
    "# double(1)\n",
    "C=np.float64(1)\n",
    "print(C)\n",
    "\n",
    "# D=round(1.5)\n",
    "D=round(1.5)\n",
    "print(D)\n",
    "\n"
   ]
  },
  {
   "cell_type": "markdown",
   "metadata": {
    "id": "pP37RUJny95L"
   },
   "source": [
    "## Arrays and Matrices"
   ]
  },
  {
   "cell_type": "code",
   "execution_count": 32,
   "metadata": {
    "colab": {
     "base_uri": "https://localhost:8080/"
    },
    "id": "xKjOB_GAzTNz",
    "outputId": "1af3ae07-4127-4d6d-9bc8-2cf9e46fc26a"
   },
   "outputs": [
    {
     "name": "stdout",
     "output_type": "stream",
     "text": [
      "[[0. 0. 0. 0. 0.]\n",
      " [0. 0. 0. 0. 0.]\n",
      " [0. 0. 0. 0. 0.]\n",
      " [0. 0. 0. 0. 0.]\n",
      " [0. 0. 0. 0. 0.]]\n",
      "[[1. 1. 1. 1. 1.]\n",
      " [1. 1. 1. 1. 1.]\n",
      " [1. 1. 1. 1. 1.]\n",
      " [1. 1. 1. 1. 1.]\n",
      " [1. 1. 1. 1. 1.]]\n",
      "[[0.47584161 0.09707933 0.01348524 0.97745639 0.60538843]\n",
      " [0.52124208 0.05717235 0.64085582 0.68505471 0.49993069]\n",
      " [0.57451317 0.1087451  0.08369763 0.47977077 0.83619237]\n",
      " [0.97389927 0.88950454 0.18347118 0.65678596 0.16035038]\n",
      " [0.28242178 0.33642793 0.85576428 0.37967077 0.20035282]]\n",
      "\n",
      "[[2 1 1]\n",
      " [2 2 2]\n",
      " [4 4 4]]\n",
      "\n",
      "[1 3 5]\n",
      "\n",
      "[5 3 1]\n",
      "\n",
      "[[1. 1. 1.]\n",
      " [1. 1. 1.]\n",
      " [1. 1. 1.]\n",
      " [1. 1. 1.]]\n",
      "\n",
      "[[0.]\n",
      " [0.]\n",
      " [0.]\n",
      " [0.]\n",
      " [0.]\n",
      " [0.]\n",
      " [0.]\n",
      " [0.]\n",
      " [0.]\n",
      " [0.]\n",
      " [0.]\n",
      " [0.]\n",
      " [0.]\n",
      " [0.]\n",
      " [0.]\n",
      " [0.]\n",
      " [0.]\n",
      " [0.]\n",
      " [0.]\n",
      " [0.]\n",
      " [0.]\n",
      " [0.]\n",
      " [0.]\n",
      " [0.]\n",
      " [0.]]\n",
      "[[1. 1. 1. 1. 1. 1. 1. 1. 1. 1. 1. 1. 1. 1. 1. 1. 1. 1. 1. 1. 1. 1. 1. 1.\n",
      "  1.]]\n",
      "[ 1.    3.25  5.5   7.75 10.  ]\n",
      "[1 2 3 4 5]\n",
      "\n",
      "[[0.40635073 0.75611269 0.01551453 0.27849883 0.1342927 ]\n",
      " [0.77667769 0.30264647 0.66327668 0.02165141 0.5878295 ]\n",
      " [0.8074059  0.84649192 0.21338996 0.33674706 0.0964892 ]\n",
      " [0.57755351 0.3714107  0.98322554 0.50412594 0.08432847]\n",
      " [0.59006767 0.8046363  0.38639346 0.87170248 0.66733115]]\n",
      "\n",
      "[[0.40635073 0.75611269 0.01551453 0.27849883 0.1342927 ]\n",
      " [0.77667769 0.30264647 0.66327668 0.02165141 0.5878295 ]\n",
      " [0.8074059  0.84649192 0.21338996 0.33674706 0.0964892 ]\n",
      " [0.57755351 0.3714107  0.98322554 0.50412594 0.08432847]\n",
      " [0.59006767 0.8046363  0.38639346 0.87170248 0.66733115]]\n"
     ]
    }
   ],
   "source": [
    "# E=zeros(5,5)\n",
    "E=np.zeros((5,5))\n",
    "print(E)\n",
    "\n",
    "# F=ones(5,5)\n",
    "F=np.ones((5,5))\n",
    "print(F)\n",
    "\n",
    "# G=rand(5,5)\n",
    "G=np.random.rand(5,5)\n",
    "print(G)\n",
    "print()\n",
    "\n",
    "# H= randi([1,5],3,3)\n",
    "H=np.random.randint(1,5,(3,3))\n",
    "print(H)\n",
    "print()\n",
    "\n",
    "#I=1:6\n",
    "I=np.arange(1,7,2)\n",
    "print(I)\n",
    "print()\n",
    "\n",
    "#J=6:1\n",
    "J=np.flip(np.arange(1,7,2))\n",
    "print(J)\n",
    "print()\n",
    "\n",
    "#K=ones(3,4)'\n",
    "K=np.transpose(np.ones((3,4)))\n",
    "print(K)\n",
    "print()\n",
    "\n",
    "#L=zeros(5,5); LL=reshape(L,25,1)\n",
    "L=np.reshape(np.zeros((5,5,)),[25,1])\n",
    "print(L)\n",
    "\n",
    "#M=ones(5,5); M=M(:);\n",
    "M=np.ones((5,5));  M=np.reshape(M,(1,-1))\n",
    "print(M)\n",
    "\n",
    "# P=linspace(1,10,5)\n",
    "P=np.linspace(1,10,5)\n",
    "print(P)\n",
    "\n",
    "#O=[[1,2],[3,4,5]]\n",
    "O=np.concatenate(([1,2],[3,4,5]),axis=0);\n",
    "print(O)\n",
    "print()\n",
    "\n",
    "#P=rand(5,5); save('Var.mat','P')\n",
    "P=np.random.rand(5,5)\n",
    "print(P)\n",
    "print()\n",
    "np.save('Var.npy',P)\n",
    "PP=np.load('Var.npy')\n",
    "print(PP)"
   ]
  },
  {
   "cell_type": "markdown",
   "metadata": {},
   "source": [
    "## Structures"
   ]
  },
  {
   "cell_type": "code",
   "execution_count": 35,
   "metadata": {},
   "outputs": [
    {
     "name": "stdout",
     "output_type": "stream",
     "text": [
      "5\n"
     ]
    }
   ],
   "source": [
    "## R.var1=5;\n",
    "## R.var2=10;\n",
    "class struct:\n",
    "    pass\n",
    "R=struct();\n",
    "R.var1=5;\n",
    "R.var2=10;\n",
    "print(R.var1)"
   ]
  },
  {
   "cell_type": "code",
   "execution_count": null,
   "metadata": {},
   "outputs": [],
   "source": []
  }
 ],
 "metadata": {
  "colab": {
   "provenance": []
  },
  "kernelspec": {
   "display_name": "Python 3 (ipykernel)",
   "language": "python",
   "name": "python3"
  },
  "language_info": {
   "codemirror_mode": {
    "name": "ipython",
    "version": 3
   },
   "file_extension": ".py",
   "mimetype": "text/x-python",
   "name": "python",
   "nbconvert_exporter": "python",
   "pygments_lexer": "ipython3",
   "version": "3.11.4"
  }
 },
 "nbformat": 4,
 "nbformat_minor": 4
}
