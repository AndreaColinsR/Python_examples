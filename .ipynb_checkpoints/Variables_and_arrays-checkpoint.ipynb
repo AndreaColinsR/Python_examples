{
  "nbformat": 4,
  "nbformat_minor": 0,
  "metadata": {
    "colab": {
      "provenance": []
    },
    "kernelspec": {
      "name": "python3",
      "display_name": "Python 3"
    },
    "language_info": {
      "name": "python"
    }
  },
  "cells": [
    {
      "cell_type": "markdown",
      "source": [
        "# Variables and arrays"
      ],
      "metadata": {
        "id": "lKnHsCbqz-_3"
      }
    },
    {
      "cell_type": "markdown",
      "source": [
        "\n",
        "## Scalars"
      ],
      "metadata": {
        "id": "E4EWB5nRuXgH"
      }
    },
    {
      "cell_type": "code",
      "execution_count": null,
      "metadata": {
        "colab": {
          "base_uri": "https://localhost:8080/"
        },
        "id": "jMZ86KLUuJAR",
        "outputId": "74389700-e377-481e-ecb3-bf85ec3c7628"
      },
      "outputs": [
        {
          "output_type": "stream",
          "name": "stdout",
          "text": [
            "1\n",
            "1\n",
            "1.0\n",
            "2\n"
          ]
        }
      ],
      "source": [
        "import numpy as np\n",
        "\n",
        "## Scalar\n",
        "A=1;\n",
        "print(A)\n",
        "\n",
        "# unit8(1)\n",
        "B=np.uint8(1)\n",
        "print(B)\n",
        "\n",
        "# double(1)\n",
        "C=np.float64(1)\n",
        "print(C)\n",
        "\n",
        "# D=round(1.5)\n",
        "D=round(1.5)\n",
        "print(D)\n",
        "\n"
      ]
    },
    {
      "cell_type": "markdown",
      "source": [
        "## Arrays and Matrices"
      ],
      "metadata": {
        "id": "pP37RUJny95L"
      }
    },
    {
      "cell_type": "code",
      "source": [
        "# E=zeros(5,5)\n",
        "E=np.zeros((5,5))\n",
        "print(E)\n",
        "\n",
        "# F=ones(5,5)\n",
        "F=np.ones((5,5))\n",
        "print()\n",
        "print(F)\n",
        "\n",
        "# G=rand(5,5)\n",
        "G=np.random.rand(5,5)\n",
        "print()\n",
        "print(G)"
      ],
      "metadata": {
        "colab": {
          "base_uri": "https://localhost:8080/"
        },
        "id": "xKjOB_GAzTNz",
        "outputId": "1af3ae07-4127-4d6d-9bc8-2cf9e46fc26a"
      },
      "execution_count": null,
      "outputs": [
        {
          "output_type": "stream",
          "name": "stdout",
          "text": [
            "[[0. 0. 0. 0. 0.]\n",
            " [0. 0. 0. 0. 0.]\n",
            " [0. 0. 0. 0. 0.]\n",
            " [0. 0. 0. 0. 0.]\n",
            " [0. 0. 0. 0. 0.]]\n",
            "\n",
            "[[1. 1. 1. 1. 1.]\n",
            " [1. 1. 1. 1. 1.]\n",
            " [1. 1. 1. 1. 1.]\n",
            " [1. 1. 1. 1. 1.]\n",
            " [1. 1. 1. 1. 1.]]\n",
            "\n",
            "[[0.97910106 0.22811147 0.28126516 0.15776244 0.38164699]\n",
            " [0.53887348 0.09212483 0.22933827 0.40136746 0.72469497]\n",
            " [0.30361855 0.67513936 0.09764553 0.27951484 0.60867502]\n",
            " [0.12150385 0.78711906 0.47524725 0.39235541 0.15600785]\n",
            " [0.46769309 0.64335438 0.83385837 0.49963874 0.22039197]]\n"
          ]
        }
      ]
    }
  ]
}