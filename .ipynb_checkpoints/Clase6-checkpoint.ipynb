{
 "cells": [
  {
   "cell_type": "markdown",
   "id": "3bfe59ca-56ce-4c62-b269-dc1badc90a59",
   "metadata": {},
   "source": [
    "# Variables, matrices, vectores y tipos de datos "
   ]
  },
  {
   "cell_type": "code",
   "execution_count": 26,
   "id": "6f6b2701-9891-408d-967f-99c4a32e86cf",
   "metadata": {},
   "outputs": [],
   "source": [
    "# Definiendo variables escalares en Python\n",
    "a=0\n",
    "Nombre_paciente='Justina'\n",
    "A='0'"
   ]
  },
  {
   "cell_type": "markdown",
   "id": "d7677220-e101-4c56-80e9-04df74a607e8",
   "metadata": {
    "jp-MarkdownHeadingCollapsed": true
   },
   "source": [
    "### Legibilidad"
   ]
  },
  {
   "cell_type": "code",
   "execution_count": 67,
   "id": "9281d21e-75d9-46ce-af7e-54acc0796015",
   "metadata": {},
   "outputs": [
    {
     "name": "stdout",
     "output_type": "stream",
     "text": [
      "356.0\n"
     ]
    }
   ],
   "source": [
    "# Que hace este codigo?\n",
    "a = 180\n",
    "b = a*1.8 + 32\n",
    "\n",
    "print(b)"
   ]
  },
  {
   "cell_type": "code",
   "execution_count": 66,
   "id": "feb40ba7-7f45-4fd2-8cec-a59c22564fb5",
   "metadata": {},
   "outputs": [
    {
     "name": "stdout",
     "output_type": "stream",
     "text": [
      "La temperatura es 356.0 grados Fahrenheit\n"
     ]
    }
   ],
   "source": [
    "# Y este codigo?\n",
    "TempC = 180\n",
    "TempF = TempC*1.8 + 32\n",
    "print('La temperatura es',TempF,'grados Fahrenheit')"
   ]
  },
  {
   "cell_type": "markdown",
   "id": "bd519c52-9ad3-4ed7-a5a6-b936ffedce6e",
   "metadata": {},
   "source": [
    "## Definiendo variables"
   ]
  },
  {
   "cell_type": "markdown",
   "id": "f6bf3bad-bd32-4d53-911c-d415b3406922",
   "metadata": {
    "jp-MarkdownHeadingCollapsed": true
   },
   "source": [
    "### Ejercicio"
   ]
  },
  {
   "cell_type": "code",
   "execution_count": 15,
   "id": "c8119122-8f20-43f6-bc79-5e6758e90f70",
   "metadata": {},
   "outputs": [
    {
     "name": "stdout",
     "output_type": "stream",
     "text": [
      "C = 10\n"
     ]
    }
   ],
   "source": [
    "C=10\n",
    "print('C =', C)"
   ]
  },
  {
   "cell_type": "code",
   "execution_count": 17,
   "id": "c7ee1180-e31f-4ae8-a45e-7d5f3ec592e9",
   "metadata": {},
   "outputs": [
    {
     "name": "stdout",
     "output_type": "stream",
     "text": [
      "VarHola = Hola\n"
     ]
    }
   ],
   "source": [
    "VarHola='Hola'\n",
    "print('VarHola =', VarHola)"
   ]
  },
  {
   "cell_type": "code",
   "execution_count": 19,
   "id": "7866510e-3086-45f1-8135-3c0a60b68316",
   "metadata": {},
   "outputs": [
    {
     "name": "stdout",
     "output_type": "stream",
     "text": [
      "String 0 = 0\n"
     ]
    }
   ],
   "source": [
    "String0='0'\n",
    "print('String 0 =', String0)"
   ]
  },
  {
   "cell_type": "code",
   "execution_count": 29,
   "id": "969480ac-db54-4b2d-96ed-574ace4973dc",
   "metadata": {},
   "outputs": [
    {
     "name": "stdout",
     "output_type": "stream",
     "text": [
      "c_big = 30000000.0\n"
     ]
    }
   ],
   "source": [
    "c_big=3e7\n",
    "print('c_big =',c_big)"
   ]
  },
  {
   "cell_type": "code",
   "execution_count": null,
   "id": "d9f613c0-9680-4f1e-9bcf-b20666b520ac",
   "metadata": {},
   "outputs": [],
   "source": [
    "c_small=1e-7\n",
    "print('c_small =',c_small)"
   ]
  },
  {
   "cell_type": "code",
   "execution_count": 24,
   "id": "9bdc4c48-8237-4c16-a376-1757711d626f",
   "metadata": {},
   "outputs": [
    {
     "name": "stdout",
     "output_type": "stream",
     "text": [
      "VarInf = inf\n",
      "pi =  3.141592653589793\n"
     ]
    }
   ],
   "source": [
    "import numpy as np\n",
    "\n",
    "VarInf=np.inf\n",
    "print('VarInf =',VarInf)\n",
    "\n",
    "VarPi=np.pi\n",
    "print('pi = ',VarPi)"
   ]
  },
  {
   "cell_type": "code",
   "execution_count": 21,
   "id": "49cb9842-ae9d-433d-a886-5ad445d0a387",
   "metadata": {},
   "outputs": [
    {
     "name": "stdout",
     "output_type": "stream",
     "text": [
      "C_inf = inf\n"
     ]
    }
   ],
   "source": [
    "C_inf=1e1000\n",
    "print('C_inf =',C_inf)"
   ]
  },
  {
   "cell_type": "code",
   "execution_count": 30,
   "id": "913018e6-9f5d-4e58-9a72-6333b5f0c0ae",
   "metadata": {},
   "outputs": [
    {
     "name": "stdout",
     "output_type": "stream",
     "text": [
      "VarFalse = False\n"
     ]
    }
   ],
   "source": [
    "VarFalse=False\n",
    "print('VarFalse =',VarFalse)"
   ]
  },
  {
   "cell_type": "markdown",
   "id": "df54c9be-1490-4d64-84e5-a6852c7f9fe6",
   "metadata": {},
   "source": [
    "## Operando variables en Python"
   ]
  },
  {
   "cell_type": "markdown",
   "id": "9475639d-a08f-4fb2-8b0d-11d23d14b00d",
   "metadata": {
    "jp-MarkdownHeadingCollapsed": true
   },
   "source": [
    "### Ejercicio"
   ]
  },
  {
   "cell_type": "code",
   "execution_count": 35,
   "id": "b9f9f923-03d5-4870-af47-2212d20ee793",
   "metadata": {},
   "outputs": [
    {
     "name": "stdout",
     "output_type": "stream",
     "text": [
      "C1+C2 = 30\n"
     ]
    }
   ],
   "source": [
    "# operaciones aritmeticas\n",
    "C1=10\n",
    "C2=20\n",
    "C3=C1+C2\n",
    "print('C1+C2 =',C3)"
   ]
  },
  {
   "cell_type": "code",
   "execution_count": 57,
   "id": "c2785e42-a2a8-4a24-946c-bf9ef67851fe",
   "metadata": {},
   "outputs": [
    {
     "name": "stdout",
     "output_type": "stream",
     "text": [
      "Hola Mundo\n"
     ]
    }
   ],
   "source": [
    "# operaciones de strings\n",
    "String1='Hola'\n",
    "String2=' Mundo'\n",
    "# concatenar\n",
    "String3=String1+String2\n",
    "print(String3)"
   ]
  },
  {
   "cell_type": "code",
   "execution_count": 70,
   "id": "e54dd919-117a-455b-b4a2-749dc9be8075",
   "metadata": {},
   "outputs": [
    {
     "name": "stdout",
     "output_type": "stream",
     "text": [
      "LaLa\n",
      "LaLaLaLa\n",
      "La La La La \n"
     ]
    }
   ],
   "source": [
    "VarLa = 'La'\n",
    "\n",
    "print(VarLa+VarLa)\n",
    "print(4*VarLa)\n",
    "VarLa2=VarLa+' '\n",
    "print(4*VarLa2)"
   ]
  },
  {
   "cell_type": "code",
   "execution_count": 63,
   "id": "3cad1f31-e7fc-4f6e-ad1e-d48e3ab3d2dd",
   "metadata": {},
   "outputs": [
    {
     "name": "stdout",
     "output_type": "stream",
     "text": [
      "H\n",
      "Hol\n"
     ]
    }
   ],
   "source": [
    "#Slicing\n",
    "VarSaludo = 'Hola'\n",
    "print(VarSaludo[0])\n",
    "print(VarSaludo[0:3])"
   ]
  },
  {
   "cell_type": "code",
   "execution_count": 59,
   "id": "69d6c35f-c7e8-4f7b-8589-629f4c7cc796",
   "metadata": {},
   "outputs": [
    {
     "name": "stdout",
     "output_type": "stream",
     "text": [
      "Inicial del/a paciente = J\n",
      "Primeras 3 letras =  Jus\n",
      "Desde la cuarta letra  =  tina\n",
      "Desde la cuarta a la sexta letra  =  tin\n"
     ]
    }
   ],
   "source": [
    "#Slicing\n",
    "Nombre_paciente = 'Justina'\n",
    "\n",
    "print('Inicial del/a paciente =',Nombre_paciente[0])\n",
    "print('Primeras 3 letras = ', Nombre_paciente[:3])\n",
    "print('Desde la cuarta letra  = ', Nombre_paciente[3:])\n",
    "print('Desde la cuarta a la sexta letra  = ', Nombre_paciente[3:6])"
   ]
  }
 ],
 "metadata": {
  "kernelspec": {
   "display_name": "Python 3 (ipykernel)",
   "language": "python",
   "name": "python3"
  },
  "language_info": {
   "codemirror_mode": {
    "name": "ipython",
    "version": 3
   },
   "file_extension": ".py",
   "mimetype": "text/x-python",
   "name": "python",
   "nbconvert_exporter": "python",
   "pygments_lexer": "ipython3",
   "version": "3.11.4"
  }
 },
 "nbformat": 4,
 "nbformat_minor": 5
}
